{
 "cells": [
  {
   "cell_type": "markdown",
   "metadata": {
    "nbpresent": {
     "id": "00cbd007-a977-4876-a756-a1a05ead6583"
    }
   },
   "source": [
    "# GRAD 5203 Lecture on Machine Learning with Scikit-Learn\n",
    "\n",
    "## David John Gagne II\n",
    "\n",
    "*National Center for Atmospheric Research*\n",
    "\n",
    "November 8, 2016"
   ]
  },
  {
   "cell_type": "markdown",
   "metadata": {
    "nbpresent": {
     "id": "5ee5b6ca-eeed-418d-b94e-b69887c7e3d5"
    }
   },
   "source": [
    "# About Me\n",
    "\n",
    "* Advanced Study Program Postdoctoral Fellow at the National Center for Atmospheric Research\n",
    "* Ph.D. in Meteorology from OU in 2016, M.S. in 2012, B.S. in 2010\n",
    "* Research Focus: Developing and evaluating machine learning forecast systems for high impact weather \n",
    "* Hail and solar energy\n"
   ]
  },
  {
   "cell_type": "markdown",
   "metadata": {
    "nbpresent": {
     "id": "cbf38974-2288-4c80-8c13-c0a3bf4aaf42"
    }
   },
   "source": [
    "# How are data analytics being used in meteorology?\n",
    "  * Data Mining\n",
    "    * Discover patterns relating weather data and non-meteorological factors\n",
    "    * Example: amount of rain vs. election turnout\n",
    "  * Data Fusion for Nowcasting\n",
    "    * Merge data from different observation sources (e.g., radar, satellite, surface) \n",
    "    * Estimate a weather property of interest\n",
    "  * Numerical Weather Prediction (NWP) Model Post-Processing\n",
    "    * Correct for sysematic biases in NWP model output\n",
    "    * Predict quantities not tracked or resolved by NWP models"
   ]
  },
  {
   "cell_type": "markdown",
   "metadata": {
    "nbpresent": {
     "id": "50a1fa2c-c227-482e-b42c-7841d218b5a9"
    }
   },
   "source": [
    "# First Example: Hail Forecasting\n",
    "\n",
    "* Large hail causes billions of dollars in property damage every year\n",
    "* Advanced warning about hail may allow people to protect some property\n",
    "* How to forecast hail?\n",
    "  * Identify atmospheric conditions associated with large hail before storms form\n",
    "  * When storms form, identify those containing hail\n",
    "* Data sources:\n",
    "  * **Soundings**, NWP model output, radar"
   ]
  },
  {
   "cell_type": "code",
   "execution_count": 78,
   "metadata": {
    "collapsed": true,
    "nbpresent": {
     "id": "e07a2224-003b-4537-8ff7-e5a646a720f8"
    }
   },
   "outputs": [],
   "source": [
    "import pandas as pd\n",
    "import numpy as np\n",
    "import matplotlib.pyplot as plt\n",
    "from sklearn.ensemble import RandomForestClassifier, RandomForestRegressor\n",
    "from sklearn.linear_model import LogisticRegression\n",
    "from sklearn.metrics import roc_curve, roc_auc_score\n",
    "from sklearn.calibration import calibration_curve\n",
    "from datetime import datetime, timedelta\n",
    "import os\n",
    "%matplotlib inline"
   ]
  },
  {
   "cell_type": "markdown",
   "metadata": {
    "nbpresent": {
     "id": "38e9d6d0-8755-46f0-8bfa-e4ca0225a88f"
    }
   },
   "source": [
    "# Data: Sounding Analog Retrieval System (SARS)\n",
    "* Database of soundings associated with large hail\n",
    "* Created by the National Weather Service [Storm Prediction Center](http://www.spc.noaa.gov/publications/jewell/sars.pdf)\n",
    "* Given a current sounding, find which soundings are close matches (analogs)\n",
    "* Task: develop a machine learning version of SARS for Hail"
   ]
  },
  {
   "cell_type": "markdown",
   "metadata": {
    "nbpresent": {
     "id": "3df980cc-3930-44ca-8c92-093b43804d0e"
    }
   },
   "source": [
    "![Alt text](http://sharppy.github.io/SHARPpy/sharppy.png)"
   ]
  },
  {
   "cell_type": "code",
   "execution_count": 3,
   "metadata": {
    "collapsed": false,
    "nbpresent": {
     "id": "48554e35-02bc-4c4b-8c70-67111f499833"
    }
   },
   "outputs": [
    {
     "name": "stdout",
     "output_type": "stream",
     "text": [
      "Index([u'DATE/RAOB', u' ELEV', u'REPORT', u'MUCAPE', u'MUMR', u'500TEMP',\n",
      "       u'300 T', u'7-5LR', u'5-3 LR', u'0-3SH', u'0-6SH', u'0-9SH', u'SRH3',\n",
      "       u'SHIP', u'MODELb'],\n",
      "      dtype='object')\n"
     ]
    }
   ],
   "source": [
    "hail_data = pd.read_csv(\"sars_hail.txt\", sep=\"\\t\")\n",
    "print(hail_data.columns)\n",
    "hail_objects = pd.read_csv(\"hail_objects.csv\")"
   ]
  },
  {
   "cell_type": "code",
   "execution_count": 3,
   "metadata": {
    "collapsed": false
   },
   "outputs": [
    {
     "data": {
      "text/html": [
       "<div>\n",
       "<table border=\"1\" class=\"dataframe\">\n",
       "  <thead>\n",
       "    <tr style=\"text-align: right;\">\n",
       "      <th></th>\n",
       "      <th>Object</th>\n",
       "      <th>Size</th>\n",
       "    </tr>\n",
       "  </thead>\n",
       "  <tbody>\n",
       "    <tr>\n",
       "      <th>0</th>\n",
       "      <td>Marble/Moth ball</td>\n",
       "      <td>0.50</td>\n",
       "    </tr>\n",
       "    <tr>\n",
       "      <th>1</th>\n",
       "      <td>Penny</td>\n",
       "      <td>0.75</td>\n",
       "    </tr>\n",
       "    <tr>\n",
       "      <th>2</th>\n",
       "      <td>Nickel</td>\n",
       "      <td>0.88</td>\n",
       "    </tr>\n",
       "    <tr>\n",
       "      <th>3</th>\n",
       "      <td>Quarter</td>\n",
       "      <td>1.00</td>\n",
       "    </tr>\n",
       "    <tr>\n",
       "      <th>4</th>\n",
       "      <td>Half Dollar</td>\n",
       "      <td>1.25</td>\n",
       "    </tr>\n",
       "    <tr>\n",
       "      <th>5</th>\n",
       "      <td>Ping pong</td>\n",
       "      <td>1.50</td>\n",
       "    </tr>\n",
       "    <tr>\n",
       "      <th>6</th>\n",
       "      <td>Golf ball</td>\n",
       "      <td>1.75</td>\n",
       "    </tr>\n",
       "    <tr>\n",
       "      <th>7</th>\n",
       "      <td>Hen egg/Lime</td>\n",
       "      <td>2.00</td>\n",
       "    </tr>\n",
       "    <tr>\n",
       "      <th>8</th>\n",
       "      <td>Tennis ball</td>\n",
       "      <td>2.50</td>\n",
       "    </tr>\n",
       "    <tr>\n",
       "      <th>9</th>\n",
       "      <td>Baseball</td>\n",
       "      <td>2.75</td>\n",
       "    </tr>\n",
       "    <tr>\n",
       "      <th>10</th>\n",
       "      <td>Apple/Tea Cup</td>\n",
       "      <td>3.00</td>\n",
       "    </tr>\n",
       "    <tr>\n",
       "      <th>11</th>\n",
       "      <td>Softball</td>\n",
       "      <td>4.00</td>\n",
       "    </tr>\n",
       "    <tr>\n",
       "      <th>12</th>\n",
       "      <td>Grapefruit</td>\n",
       "      <td>4.50</td>\n",
       "    </tr>\n",
       "  </tbody>\n",
       "</table>\n",
       "</div>"
      ],
      "text/plain": [
       "              Object  Size\n",
       "0   Marble/Moth ball  0.50\n",
       "1              Penny  0.75\n",
       "2             Nickel  0.88\n",
       "3            Quarter  1.00\n",
       "4        Half Dollar  1.25\n",
       "5          Ping pong  1.50\n",
       "6          Golf ball  1.75\n",
       "7       Hen egg/Lime  2.00\n",
       "8        Tennis ball  2.50\n",
       "9           Baseball  2.75\n",
       "10     Apple/Tea Cup  3.00\n",
       "11          Softball  4.00\n",
       "12        Grapefruit  4.50"
      ]
     },
     "execution_count": 3,
     "metadata": {},
     "output_type": "execute_result"
    }
   ],
   "source": [
    "hail_objects"
   ]
  },
  {
   "cell_type": "markdown",
   "metadata": {
    "nbpresent": {
     "id": "70752ca5-fe17-45e8-bece-41b2af33ff4f"
    }
   },
   "source": [
    "## Hail Report Biases\n",
    "* Reports of hail diameter are collected from the public by the National Weather Service\n",
    "* Observers are encouraged to measure the diameter of the hail\n",
    "* But often size is estimated based on comparisons with common objects\n",
    "* Result: under-reporting of size categories with no object"
   ]
  },
  {
   "cell_type": "code",
   "execution_count": 4,
   "metadata": {
    "collapsed": false,
    "nbpresent": {
     "id": "1da368e8-5309-46fd-a480-d8e1b5fc309a"
    }
   },
   "outputs": [
    {
     "data": {
      "image/png": "[encoded data removed]",
      "text/plain": [
       "<matplotlib.figure.Figure at 0x117ea51d0>"
      ]
     },
     "metadata": {},
     "output_type": "display_data"
    }
   ],
   "source": [
    "hail_data.hist(\"REPORT\", bins=np.arange(0, 7, 0.25), figsize=(8, 5), color=\"violet\", edgecolor=\"purple\")\n",
    "plt.xlabel(\"Hail Size\")\n",
    "plt.ylabel(\"Frequency\")\n",
    "plt.title(\"Hail Size Distribution\")\n",
    "for r in hail_objects.index:\n",
    "    plt.text(hail_objects.loc[r,\"Size\"], 300, hail_objects.loc[r,\"Object\"], \n",
    "             rotation=90, ha=\"left\", va=\"center\", fontsize=11)\n",
    "ax = plt.gca()\n",
    "ax.set_yscale(\"log\")"
   ]
  },
  {
   "cell_type": "code",
   "execution_count": 51,
   "metadata": {
    "collapsed": false
   },
   "outputs": [
    {
     "name": "stdout",
     "output_type": "stream",
     "text": [
      "[['95052300' 'DDC']\n",
      " ['91051100' 'MAF']\n",
      " ['97061700' 'OUN']\n",
      " ..., \n",
      " ['97082200' 'ILN']\n",
      " ['98062500' 'JAN']\n",
      " ['98081000' 'SHV']]\n"
     ]
    },
    {
     "data": {
      "text/plain": [
       "<matplotlib.text.Text at 0x11dcf0fd0>"
      ]
     },
     "execution_count": 51,
     "metadata": {},
     "output_type": "execute_result"
    },
    {
     "data": {
      "image/png": "[encoded data removed]",
      "text/plain": [
       "<matplotlib.figure.Figure at 0x11d621d90>"
      ]
     },
     "metadata": {},
     "output_type": "display_data"
    }
   ],
   "source": [
    "date_raob = np.vstack(hail_data[\"DATE/RAOB\"].str.split(\".\").values)\n",
    "print(date_raob)\n",
    "date_list = [datetime.strptime(d, \"%y%m%d%H\") for d in date_raob[:, 0]]\n",
    "date_list = [datetime(d.year-100, d.month, d.day) if d.year > 2016 else d for d in date_list]\n",
    "hail_data[\"date\"] = pd.DatetimeIndex(date_list)\n",
    "hail_data[\"raob\"] = date_raob[:, 1]\n",
    "plt.figure(figsize=(6, 5))\n",
    "plt.subplot(2,1,1)\n",
    "plt.hist(pd.DatetimeIndex(hail_data[\"date\"]).year, bins=np.arange(1957, 2010), color=\"red\")\n",
    "plt.ylabel(\"Frequency\")\n",
    "plt.title(\"Hail Analog Frequency by Year\")\n",
    "plt.subplot(2,1,2)\n",
    "plt.hist(pd.DatetimeIndex(hail_data[\"date\"]).year, bins=np.arange(1989, 2010), color=\"red\")\n",
    "plt.xlabel(\"Year\")\n",
    "plt.ylabel(\"Frequency\")\n"
   ]
  },
  {
   "cell_type": "code",
   "execution_count": 58,
   "metadata": {
    "collapsed": false
   },
   "outputs": [
    {
     "data": {
      "text/plain": [
       "<matplotlib.text.Text at 0x11eba8410>"
      ]
     },
     "execution_count": 58,
     "metadata": {},
     "output_type": "execute_result"
    },
    {
     "data": {
      "image/png": "[encoded data removed]",
      "text/plain": [
       "<matplotlib.figure.Figure at 0x11e9553d0>"
      ]
     },
     "metadata": {},
     "output_type": "display_data"
    }
   ],
   "source": [
    "plt.hist(pd.DatetimeIndex(hail_data[\"date\"]).month, bins=np.arange(1, 13), color=\"red\")\n",
    "plt.xlim(1, 12)\n",
    "plt.xlabel(\"Month\")\n",
    "plt.ylabel(\"Frequency\")\n",
    "plt.title(\"Hail Analog Frequency by Month\")"
   ]
  },
  {
   "cell_type": "code",
   "execution_count": 30,
   "metadata": {
    "collapsed": false
   },
   "outputs": [
    {
     "data": {
      "text/plain": [
       "array(['DDC', 'MAF', 'OUN', 'LZK', 'HON', 'BIS', 'RAP', 'LBF', 'TFX',\n",
       "       'TOP', 'IAD', 'JAN', 'SEP', 'OVN', 'AMA', 'GTF', 'BRO', 'FNT',\n",
       "       'INL', 'GSO', 'FWD', 'SHV', 'SGF', 'DNR', 'ILX', 'GGW', 'MHX',\n",
       "       'BNA', 'FFC', 'FTD', 'DAY', 'DVN', 'BMX', 'OAX', 'ABR', 'RNK',\n",
       "       'STC', 'GRB', 'UNR', 'PBI', 'CKL', 'HAT', 'TBW', '1M1', 'YRM',\n",
       "       'LMN', 'SIL', 'DEN', 'OKX', 'UMN', 'GGG', 'DRT', 'CRP', 'WAL',\n",
       "       'SSM', 'AHN', 'PIA', 'OMA', 'FWH', 'CHS', 'MPX', 'DTX', 'TLH',\n",
       "       'LCH', 'CAR', 'AYS', 'ALB', 'PAH', 'XMR', 'EPZ', 'JAX', 'BUF',\n",
       "       'APX', 'PIT', 'ELP', 'MFL', 'ABQ', 'TUS', 'LIX', 'DRA', 'ILN',\n",
       "       'SLC', 'FGZ', 'BOI', 'PHX', 'NKX', 'HTS', 'VCT', 'OTX', 'GYX',\n",
       "       'OAK', 'GJT', 'ACY', 'SLI'], dtype=object)"
      ]
     },
     "execution_count": 30,
     "metadata": {},
     "output_type": "execute_result"
    }
   ],
   "source": [
    "hail_data[\"raob\"].unique()"
   ]
  },
  {
   "cell_type": "code",
   "execution_count": 60,
   "metadata": {
    "collapsed": false,
    "nbpresent": {
     "id": "17f03d15-db99-4653-a3f1-4fa6e0472b4a"
    }
   },
   "outputs": [],
   "source": [
    "train = hail_data.sample(frac=0.7, random_state=404)\n",
    "test = hail_data.drop(train.index)"
   ]
  },
  {
   "cell_type": "code",
   "execution_count": 61,
   "metadata": {
    "collapsed": false,
    "nbpresent": {
     "id": "fa74a923-a2d8-4622-8563-2a31733249fd"
    }
   },
   "outputs": [],
   "source": [
    "input_cols = np.array(['MUCAPE', 'MUMR', '500TEMP', '300 T', '7-5LR', '5-3 LR', '0-3SH', '0-6SH', '0-9SH', 'SRH3'])\n",
    "test_col = \"REPORT\"\n",
    "size_threshold = 2\n",
    "models = [RandomForestClassifier(n_estimators=100, max_features=\"sqrt\"),\n",
    "         LogisticRegression(penalty=\"l1\")]\n",
    "model_names = np.array([\"Random Forest\",\n",
    "                        \"Logistic Regression\"])\n",
    "for model in models:\n",
    "    model.fit(train[input_cols], np.where(train[test_col] >= size_threshold, 1, 0))\n"
   ]
  },
  {
   "cell_type": "code",
   "execution_count": 77,
   "metadata": {
    "collapsed": false,
    "nbpresent": {
     "id": "4bea95c2-dba1-4794-a28b-ce2f26b7235c"
    }
   },
   "outputs": [
    {
     "data": {
      "text/plain": [
       "<matplotlib.text.Text at 0x122963850>"
      ]
     },
     "execution_count": 77,
     "metadata": {},
     "output_type": "execute_result"
    },
    {
     "data": {
      "image/png": "[encoded data removed]",
      "text/plain": [
       "<matplotlib.figure.Figure at 0x12162b450>"
      ]
     },
     "metadata": {},
     "output_type": "display_data"
    }
   ],
   "source": [
    "feature_ranking = models[0].feature_importances_.argsort()\n",
    "plt.figure(figsize=(8, 5))\n",
    "plt.barh(np.arange(feature_ranking.size), models[0].feature_importances_[feature_ranking], 1)\n",
    "plt.yticks(np.arange(feature_ranking.size) + 0.5, input_cols[feature_ranking])\n",
    "plt.title(\"Random Forest Variable Importance Scores\")"
   ]
  },
  {
   "cell_type": "code",
   "execution_count": 63,
   "metadata": {
    "collapsed": false,
    "nbpresent": {
     "id": "ede84219-59e6-4009-9edc-990a5bed4e65"
    }
   },
   "outputs": [
    {
     "name": "stdout",
     "output_type": "stream",
     "text": [
      "('MUCAPE', 0.0015601919291492248)\n",
      "('MUMR', -0.25627476455434584)\n",
      "('500TEMP', -0.039500269314110908)\n",
      "('300 T', 0.0087766395094079179)\n",
      "('7-5LR', -0.0054057325634018607)\n",
      "('5-3 LR', -0.14443308390905546)\n",
      "('0-3SH', 0.092027810134274773)\n",
      "('0-6SH', 0.086884417095782471)\n",
      "('0-9SH', 0.028918603500859393)\n",
      "('SRH3', 0.00015086715624670243)\n"
     ]
    }
   ],
   "source": [
    "for i, input_name in enumerate(input_cols):\n",
    "    print(input_name, models[1].coef_[0,i])"
   ]
  },
  {
   "cell_type": "code",
   "execution_count": 89,
   "metadata": {
    "collapsed": false,
    "nbpresent": {
     "id": "e34d0cb5-9c56-4584-a679-f1ba844a7c94"
    }
   },
   "outputs": [
    {
     "data": {
      "text/plain": [
       "<matplotlib.text.Text at 0x1235cde90>"
      ]
     },
     "execution_count": 89,
     "metadata": {},
     "output_type": "execute_result"
    },
    {
     "data": {
      "image/png": "[encoded data removed]",
      "text/plain": [
       "<matplotlib.figure.Figure at 0x1232e7450>"
      ]
     },
     "metadata": {},
     "output_type": "display_data"
    }
   ],
   "source": [
    "test_results = pd.DataFrame(columns=model_names, index=test.index, dtype=float)\n",
    "test_labels = np.where(test[test_col] >= size_threshold, 1, 0)\n",
    "fig, (ax1, ax2) = plt.subplots(1, 2, figsize=(12, 6))\n",
    "for m, model in enumerate(models):\n",
    "    test_results[model_names[m]] = model.predict_proba(test[input_cols])[:, 1]\n",
    "    pofd, pod, prob_thresh = roc_curve(test_labels, test_results[model_names[m]], pos_label=1)\n",
    "    prob_true, prob_pred = calibration_curve(test_labels, test_results[model_names[m]], n_bins=10)\n",
    "    ax1.plot(pofd, pod, label=model_names[m])\n",
    "    ax2.plot(prob_pred, prob_true, marker='o', label=model_names[m])\n",
    "    ax1.plot(np.arange(0, 1.1, .1),np.arange(0, 1.1, .1), 'k--')\n",
    "    ax2.plot(np.arange(0, 1.1, .1),np.arange(0, 1.1, .1), 'k--')\n",
    "pofd, pod, prob_thresh = roc_curve(test_labels, sars_test_probs, pos_label=1)\n",
    "prob_true, prob_pred = calibration_curve(test_labels, sars_test_probs, n_bins=10)\n",
    "ax1.plot(pofd, pod, label=\"SARS\")\n",
    "ax2.plot(prob_pred, prob_true, marker='o', label=\"SARS\")\n",
    "\n",
    "ax1.legend(loc=4)\n",
    "ax1.set_xlabel(\"Probability of False Detection\")\n",
    "ax1.set_ylabel(\"Probability of Detection\")\n",
    "ax1.set_title(\"Hail > 2 inches ROC Curve\")\n",
    "ax2.set_xlabel(\"Forecast Probability\")\n",
    "ax2.set_ylabel(\"Observed Relative Frequency\")\n",
    "ax2.set_title(\"Hail > 2 inches Reliability Diagram\")\n",
    "#plt.plot(prob_thresh, pod - pofd)"
   ]
  },
  {
   "cell_type": "code",
   "execution_count": 80,
   "metadata": {
    "collapsed": false,
    "nbpresent": {
     "id": "2d95709f-5a2a-4881-8919-d8b43f25b6ec"
    }
   },
   "outputs": [],
   "source": [
    "def hail(hail_database, mumr, mucape, h5_temp, lr, shr6, shr9, shr3, srh):\n",
    "    '''\n",
    "    The SARS Hail database was provided by Ryan Jewell of the NOAA Storm\n",
    "    Prediction Center in Norman, Oklahoma. This is a database of observed\n",
    "    and model proximity analogue soundings to hail events.\n",
    "    \n",
    "    This function works by searching for matches to particular variables in \n",
    "    the database that have been attributed to hail events given a certain \n",
    "    range of uncertainty. The loose matches are used for statistics such as\n",
    "    % significant hail matches, and are based on a looser criteria for\n",
    "    matches. The analogues that get displayed are based on a tighter criteria\n",
    "    for matches to insure that only quality matches are received. Ranges for\n",
    "    loose and quality matches are semi-arbitrary, and were tuned by testing\n",
    "    internally by SPC.\n",
    "    \n",
    "    The loose matches are based on the most unstable parcel mixing ratio (mumr),\n",
    "    most unstable cape (mucape), 700-500mb labse rate (lr), 500mb temperature\n",
    "    (h5_temp), 0-3km shear (shr3), 0-6km shear (shr6), and the 0-9km shear (shr9).\n",
    "    \n",
    "    The ranges for the loose matches are set as such:\n",
    "        mumr: +/- 2.0 g/kg\n",
    "        mucape: +/- 30% J/kg\n",
    "        lr: +/- 2.0 C/km\n",
    "        h5_temp: +/- 9.0 C\n",
    "        shr6: +/- 12 m^2/s^2\n",
    "        shr9: +/- 22 m^2/s^2\n",
    "        shr3: +/- 10 m^2/s^2\n",
    "    \n",
    "    The quality matches use the fields described in the loose matches, plus the\n",
    "    0-3km Storm Relative Helicity (srh). The bounds for the search for quality \n",
    "    matches is much more strict that the loose matches.\n",
    "    \n",
    "    The ranges for the quality matches are set as such:\n",
    "        mumr: +/- 2.0 g/kg\n",
    "        mucape < 500 J/kg: +/- 50% J/kg\n",
    "        mucape < 2000 J/kg: +/- 25% J/kg\n",
    "        mucape >= 2000 J/kg: +/- 20% J/kg\n",
    "        lr: +/- 0.4 C/km\n",
    "        h5_temp: +/- 1.5 C/km\n",
    "        shr6: +/- 6 m^2/s^2\n",
    "        shr9: +/- 15 m^2/s^2\n",
    "        shr3: +/- 8 m^2/s^2\n",
    "        srh < 50 m^2/s^2: +/- 25 m^2/s^2\n",
    "        srh >= 50 m^2/s^2: +/- 50% m^2/s^2\n",
    "    \n",
    "    Parameters\n",
    "    ----------\n",
    "    mumr - most unstable parcel mixing ratio (g/kg)\n",
    "    mucape - most unstable CAPE (J/kg)\n",
    "    h5_temp - 500 mb temperature (C)\n",
    "    lr - 700-500 mb lapse rate (C/km)\n",
    "    shr6 - 0-6 km shear (m/s)\n",
    "    shr9 - 0-9 km shear (m/s)\n",
    "    shr3 - 0-3 km shear (m/s)\n",
    "    srh - 0-3 Storm Relative Helicity (m2/s2)\n",
    "    \n",
    "    Returns\n",
    "    -------\n",
    "    quality_match_dates (str) - dates of the quality matches\n",
    "    quality_match_sizes (float) - hail sizes of the quality matches\n",
    "    num_loose_matches (int) - number of loose matches\n",
    "    num_sig_reports (int) - number of significant hail reports (>= 2 inches)\n",
    "    prob_sig_hail (float) - SARS sig. hail probability\n",
    "    \n",
    "    '''\n",
    "    ## open the file in the current directory with the name database_fn\n",
    "\n",
    "    #Set range criteria for matching sounding\n",
    "    # MU Mixing Ratio Ranges\n",
    "    range_mumr = 2.0 # g/kg\n",
    "    range_mumr_t1 = 2.0 # g/kg\n",
    "\n",
    "    # MUCAPE Ranges (J/kg)\n",
    "    range_mucape = mucape*.30\n",
    "    if mucape < 500.:\n",
    "        range_mucape_t1 = mucape * .50\n",
    "    elif mucape >= 500. and mucape < 2000.:\n",
    "        range_mucape_t1 = mucape * .25\n",
    "    else:\n",
    "        range_mucape_t1 = mucape * .20\n",
    "\n",
    "    # 700-500 mb Lapse Rate Ranges\n",
    "    range_lr = 2.0 # C/km\n",
    "    range_lr_t1 = 0.4 # C/km\n",
    "\n",
    "    # 500 mb temperature ranges\n",
    "    range_temp = 9 # C\n",
    "    range_temp_t1 = 1.5 # C\n",
    "\n",
    "    # 0-6 km shear ranges\n",
    "    range_shr6 = 12 # m/s\n",
    "    range_shr6_t1 = 6 # m/s\n",
    "\n",
    "    # 0-9 km shear ranges\n",
    "\n",
    "    range_shr9 = 22 # m/s\n",
    "    range_shr9_t1 = 15 # m/s\n",
    "\n",
    "    # 0-3 km shear ranges\n",
    "    range_shr3 = 10\n",
    "    range_shr3_t1 = 8\n",
    "\n",
    "    # 0-3 SRH Ranges\n",
    "    range_srh = 100\n",
    "    if srh < 50:\n",
    "        range_srh_t1 = 25\n",
    "    else:\n",
    "        range_srh_t1 = srh * 0.5\n",
    "\n",
    "    #Get database variables from the columns in the file and make them floats\n",
    "    matmr = np.asarray(hail_database[:,4], dtype=float) # MU Mixing Ratio\n",
    "    matcape = np.asarray(hail_database[:,3], dtype=float) # MUCAPE\n",
    "    matlr = np.asarray(hail_database[:,7], dtype=float) # 700-500 mb lapse rate\n",
    "    mattemp = np.asarray(hail_database[:,5], dtype=float) # 500 mb temp\n",
    "    matshr6 = np.asarray(hail_database[:,10], dtype=float) # 0-6 shear\n",
    "    matshr9 = np.asarray(hail_database[:,11], dtype=float) # 0-9 shear\n",
    "    matshr3 = np.asarray(hail_database[:,9], dtype=float) # 0-3 shear\n",
    "    matsrh = np.asarray(hail_database[:,12], dtype=float) # 0-3 SRH\n",
    "\n",
    "    # Find the loose matches using the ranges set above\n",
    "    loose_match_idx = np.where((mumr >= (matmr - range_mumr)) & (mumr <= (matmr + range_mumr)) & \\\n",
    "                               (mucape >= (matcape - range_mucape)) & (mucape <= (matcape + range_mucape)) & \\\n",
    "                               (lr >= (matlr - range_lr)) & (lr <= (matlr + range_lr)) & \\\n",
    "                               (h5_temp >= (mattemp - range_temp)) & (h5_temp <= (mattemp + range_temp)) & \\\n",
    "                               (shr6 >= (matshr6 - range_shr6)) & (shr6 <= (matshr6 + range_shr6)) & \\\n",
    "                               (shr9 >= (matshr9 - range_shr9)) & (shr9 <= (matshr9 + range_shr9)) & \\\n",
    "                               (shr3 >= (matshr3 - range_shr3)) & (shr3 <= (matshr3 + range_shr3)))[0]\n",
    "    ## How many loose matches are there?\n",
    "    num_loose_matches = float(len(loose_match_idx))\n",
    "    ## What were the sizes of those matches?\n",
    "    hail_sizes = np.asarray(hail_database[:,2], dtype=float)\n",
    "    ## How many of them were significant (>2.0 in)?\n",
    "    num_sig_reports = float(len(np.where(hail_sizes[loose_match_idx] >= 2.)[0]))\n",
    "\n",
    "    ## Calculate the Probability of significant hail - must make sure\n",
    "    ## loose matches are > 0 to prevent division by 0.\n",
    "    if num_loose_matches > 0 and mucape > 0:\n",
    "        prob_sig_hail = num_sig_reports / num_loose_matches\n",
    "        # Calculate the average hail size from the loose matches\n",
    "        avg_hail_size = np.mean(hail_sizes[loose_match_idx])\n",
    "    else:\n",
    "        prob_sig_hail = 0\n",
    "\n",
    "    # Find the quality matches\n",
    "    quality_match_idx = np.where((mumr >= (matmr - range_mumr_t1)) & (mumr <= (matmr + range_mumr_t1)) & \\\n",
    "                               (mucape >= (matcape - range_mucape_t1)) & (mucape <= (matcape + range_mucape_t1)) & \\\n",
    "                               (lr >= (matlr - range_lr_t1)) & (lr <= (matlr + range_lr_t1)) & \\\n",
    "                               (h5_temp >= (mattemp - range_temp_t1)) & (h5_temp <= (mattemp + range_temp_t1)) & \\\n",
    "                               (shr6 >= (matshr6 - range_shr6_t1)) & (shr6 <= (matshr6 + range_shr6_t1)) & \\\n",
    "                               (shr9 >= (matshr9 - range_shr9_t1)) & (shr9 <= (matshr9 + range_shr9_t1)) & \\\n",
    "                               (shr3 >= (matshr3 - range_shr3_t1)) & (shr3 <= (matshr3 + range_shr3_t1)) & \\\n",
    "                               (srh >= (matsrh - range_srh_t1)) & (srh <= (matsrh + range_srh_t1)))[0]\n",
    "\n",
    "    quality_match_dates = hail_database[quality_match_idx,0]\n",
    "    quality_match_sizes = np.asarray(hail_database[quality_match_idx,2], dtype=float)\n",
    "\n",
    "    # This filtering was in the sars.f file so the graphical output wasn't overrun by historical quality matches\n",
    "    max_quality_matches = 15\n",
    "    quality_match_dates = quality_match_dates[:max_quality_matches]\n",
    "    quality_match_sizes = quality_match_sizes[:max_quality_matches]\n",
    "\n",
    "    return quality_match_dates, quality_match_sizes, num_loose_matches, num_sig_reports, prob_sig_hail"
   ]
  },
  {
   "cell_type": "code",
   "execution_count": 86,
   "metadata": {
    "collapsed": false
   },
   "outputs": [
    {
     "name": "stdout",
     "output_type": "stream",
     "text": [
      "Index([u'DATE/RAOB', u' ELEV', u'REPORT', u'MUCAPE', u'MUMR', u'500TEMP',\n",
      "       u'300 T', u'7-5LR', u'5-3 LR', u'0-3SH', u'0-6SH', u'0-9SH', u'SRH3',\n",
      "       u'SHIP', u'MODELb', u'date', u'raob'],\n",
      "      dtype='object')\n"
     ]
    }
   ],
   "source": [
    "train_text = train.astype(\"str\").values\n",
    "print(train.columns)\n",
    "# mumr, mucape, h5_temp, lr, shr6, shr9, shr3, srh\n",
    "sars_test_probs = np.zeros(test.shape[0])\n",
    "for r, row in enumerate(test.index):\n",
    "    sars_test_probs[r] = hail(train_text, *test.loc[row, [\"MUMR\", \"MUCAPE\", \"500TEMP\", \"7-5LR\", \"0-6SH\", \"0-9SH\", \"0-3SH\", \"SHR\"]].tolist())[-1]"
   ]
  },
  {
   "cell_type": "code",
   "execution_count": null,
   "metadata": {
    "collapsed": true
   },
   "outputs": [],
   "source": []
  }
 ],
 "metadata": {
  "anaconda-cloud": {},
  "kernelspec": {
   "display_name": "Python [conda root]",
   "language": "python",
   "name": "conda-root-py"
  },
  "language_info": {
   "codemirror_mode": {
    "name": "ipython",
    "version": 2
   },
   "file_extension": ".py",
   "mimetype": "text/x-python",
   "name": "python",
   "nbconvert_exporter": "python",
   "pygments_lexer": "ipython2",
   "version": "2.7.12"
  },
  "nbpresent": {
   "slides": {
    "0954fdf7-03f5-4956-837a-3968b0609cc4": {
     "id": "0954fdf7-03f5-4956-837a-3968b0609cc4",
     "layout": "manual",
     "prev": null,
     "regions": {
      "ae7cbc5e-5b6a-4d49-80d3-2ec83972d937": {
       "attrs": {
        "height": 0.9266651881422341,
        "width": 0.9108449767132402,
        "x": 0.04590818363273453,
        "y": 0.037850225474975976
       },
       "content": {
        "cell": "00cbd007-a977-4876-a756-a1a05ead6583",
        "part": "whole"
       },
       "id": "ae7cbc5e-5b6a-4d49-80d3-2ec83972d937"
      }
     }
    },
    "3b8e6676-952f-4c0d-bc78-a80c383b531a": {
     "id": "3b8e6676-952f-4c0d-bc78-a80c383b531a",
     "prev": "0954fdf7-03f5-4956-837a-3968b0609cc4",
     "regions": {
      "256ae3b4-7cb2-4534-93fc-9888def98932": {
       "attrs": {
        "height": 1,
        "width": 1,
        "x": 0,
        "y": 0
       },
       "content": {
        "cell": "cbf38974-2288-4c80-8c13-c0a3bf4aaf42",
        "part": "source"
       },
       "id": "256ae3b4-7cb2-4534-93fc-9888def98932"
      }
     }
    },
    "6a1cb4eb-70f8-464b-ba00-2945188711fc": {
     "id": "6a1cb4eb-70f8-464b-ba00-2945188711fc",
     "prev": "a7bd30f7-fc67-4f38-b49a-8f647fee9c92",
     "regions": {
      "78edd416-2bd8-4bfd-af52-993199d5fb0d": {
       "attrs": {
        "height": 0.8,
        "width": 0.45,
        "x": 0.05,
        "y": 0.1
       },
       "content": {
        "cell": "70752ca5-fe17-45e8-bece-41b2af33ff4f",
        "part": "source"
       },
       "id": "78edd416-2bd8-4bfd-af52-993199d5fb0d"
      },
      "85370a7e-330d-4105-bbdd-0d2518d1bd54": {
       "attrs": {
        "height": 0.8,
        "width": 0.45,
        "x": 0.5066533599467731,
        "y": 0.10473127818437192
       },
       "content": {
        "cell": "1da368e8-5309-46fd-a480-d8e1b5fc309a",
        "part": "outputs"
       },
       "id": "85370a7e-330d-4105-bbdd-0d2518d1bd54"
      }
     }
    },
    "71c9e3d3-25c2-4a14-beaf-bcf2fd97d228": {
     "id": "71c9e3d3-25c2-4a14-beaf-bcf2fd97d228",
     "prev": "3b8e6676-952f-4c0d-bc78-a80c383b531a",
     "regions": {
      "4560e6d9-6a0e-414c-a5ba-76b1b152cb45": {
       "attrs": {
        "height": 1,
        "width": 1,
        "x": 0,
        "y": 0
       },
       "content": {
        "cell": "50a1fa2c-c227-482e-b42c-7841d218b5a9",
        "part": "source"
       },
       "id": "4560e6d9-6a0e-414c-a5ba-76b1b152cb45"
      }
     }
    },
    "a7bd30f7-fc67-4f38-b49a-8f647fee9c92": {
     "id": "a7bd30f7-fc67-4f38-b49a-8f647fee9c92",
     "prev": "71c9e3d3-25c2-4a14-beaf-bcf2fd97d228",
     "regions": {
      "37d4589e-9d26-4238-8210-70fb32c2a9d5": {
       "attrs": {
        "height": 0.7999999999999999,
        "width": 0.39765051395007345,
        "x": 0.5698972099853158,
        "y": 0.09999999999999999
       },
       "content": {
        "cell": "3df980cc-3930-44ca-8c92-093b43804d0e",
        "part": "source"
       },
       "id": "37d4589e-9d26-4238-8210-70fb32c2a9d5"
      },
      "99abc7f4-d4c6-4c6d-9373-86e37d12d37e": {
       "attrs": {
        "height": 0.8587371487585594,
        "width": 0.49331864904552125,
        "x": 0.05000000000000001,
        "y": 0.04126285124144054
       },
       "content": {
        "cell": "38e9d6d0-8755-46f0-8bfa-e4ca0225a88f",
        "part": "source"
       },
       "id": "99abc7f4-d4c6-4c6d-9373-86e37d12d37e"
      }
     }
    }
   },
   "themes": {
    "default": "34f2f7fa-f17c-426b-9924-81ff5bf640b1",
    "theme": {
     "34f2f7fa-f17c-426b-9924-81ff5bf640b1": {
      "id": "34f2f7fa-f17c-426b-9924-81ff5bf640b1",
      "palette": {
       "19cc588f-0593-49c9-9f4b-e4d7cc113b1c": {
        "id": "19cc588f-0593-49c9-9f4b-e4d7cc113b1c",
        "rgb": [
         252,
         252,
         252
        ]
       },
       "31af15d2-7e15-44c5-ab5e-e04b16a89eff": {
        "id": "31af15d2-7e15-44c5-ab5e-e04b16a89eff",
        "rgb": [
         68,
         68,
         68
        ]
       },
       "50f92c45-a630-455b-aec3-788680ec7410": {
        "id": "50f92c45-a630-455b-aec3-788680ec7410",
        "rgb": [
         155,
         177,
         192
        ]
       },
       "c5cc3653-2ee1-402a-aba2-7caae1da4f6c": {
        "id": "c5cc3653-2ee1-402a-aba2-7caae1da4f6c",
        "rgb": [
         43,
         126,
         184
        ]
       },
       "efa7f048-9acb-414c-8b04-a26811511a21": {
        "id": "efa7f048-9acb-414c-8b04-a26811511a21",
        "rgb": [
         25.118061674008803,
         73.60176211453744,
         107.4819383259912
        ]
       }
      },
      "rules": {
       "blockquote": {
        "color": "50f92c45-a630-455b-aec3-788680ec7410"
       },
       "code": {
        "font-family": "Anonymous Pro"
       },
       "h1": {
        "color": "c5cc3653-2ee1-402a-aba2-7caae1da4f6c",
        "font-family": "Lato",
        "font-size": 8
       },
       "h2": {
        "color": "c5cc3653-2ee1-402a-aba2-7caae1da4f6c",
        "font-family": "Lato",
        "font-size": 6
       },
       "h3": {
        "color": "50f92c45-a630-455b-aec3-788680ec7410",
        "font-family": "Lato",
        "font-size": 5.5
       },
       "h4": {
        "color": "c5cc3653-2ee1-402a-aba2-7caae1da4f6c",
        "font-family": "Lato",
        "font-size": 5
       },
       "h5": {
        "font-family": "Lato"
       },
       "h6": {
        "font-family": "Lato"
       },
       "h7": {
        "font-family": "Lato"
       },
       "pre": {
        "font-family": "Anonymous Pro",
        "font-size": 4
       }
      },
      "text-base": {
       "font-family": "Merriweather",
       "font-size": 4
      }
     }
    }
   }
  }
 },
 "nbformat": 4,
 "nbformat_minor": 1
}
